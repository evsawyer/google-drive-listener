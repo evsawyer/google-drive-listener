{
 "cells": [
  {
   "cell_type": "code",
   "execution_count": 15,
   "metadata": {},
   "outputs": [],
   "source": [
    "from cloud_storage_functions import get_service_account_info\n",
    "from google.oauth2 import service_account\n",
    "from googleapiclient.discovery import build\n",
    "import logging\n",
    "logging.basicConfig(level=logging.INFO)\n",
    "logger = logging.getLogger(__name__)"
   ]
  },
  {
   "cell_type": "code",
   "execution_count": 21,
   "metadata": {},
   "outputs": [
    {
     "name": "stderr",
     "output_type": "stream",
     "text": [
      "INFO:googleapiclient.discovery_cache:file_cache is only supported with oauth2client<4.0.0\n"
     ]
    }
   ],
   "source": [
    "SCOPES = [\n",
    "    'https://www.googleapis.com/auth/drive',\n",
    "    'https://www.googleapis.com/auth/drive.readonly'  # Added for channels.list\n",
    "]\n",
    "\n",
    "service_account_info = get_service_account_info()\n",
    "credentials = service_account.Credentials.from_service_account_info(\n",
    "    service_account_info, scopes=SCOPES)\n",
    "drive_service = build('drive', 'v3', credentials=credentials)"
   ]
  },
  {
   "cell_type": "code",
   "execution_count": 8,
   "metadata": {},
   "outputs": [],
   "source": [
    "files = drive_service.files().list().execute()"
   ]
  },
  {
   "cell_type": "code",
   "execution_count": 12,
   "metadata": {},
   "outputs": [
    {
     "name": "stdout",
     "output_type": "stream",
     "text": [
      "Files found:\n",
      "- IVN _ Core Knowledge Base _ Feb. 18, 2025 v.2.pdf (application/pdf)\n",
      "- test3 (application/vnd.google-apps.document)\n",
      "- metadata-test (Folder)\n",
      "- LlamaIndex-Pipeline (Folder)\n",
      "- test0 (application/vnd.google-apps.document)\n",
      "- big-files (Folder)\n",
      "- IPCC_AR6_WGII_Chapter03.pdf (application/pdf)\n",
      "- IVN (Folder)\n",
      "- borges (Folder)\n",
      "- test2 (application/vnd.google-apps.document)\n",
      "- test1 (application/vnd.google-apps.document)\n",
      "- Borges-The-Library-of-Babel_uaotdj (1).pdf (application/pdf)\n"
     ]
    }
   ],
   "source": [
    "# for file in files:\n",
    "#     print(file['name'])\n",
    "\n",
    "print(\"Files found:\")\n",
    "for file in files['files']:\n",
    "    file_type = \"(Folder)\" if file['mimeType'] == 'application/vnd.google-apps.folder' else f\"({file['mimeType']})\"\n",
    "    print(f\"- {file['name']} {file_type}\")\n",
    "# print(files)"
   ]
  },
  {
   "cell_type": "code",
   "execution_count": 14,
   "metadata": {},
   "outputs": [
    {
     "name": "stdout",
     "output_type": "stream",
     "text": [
      "Service account email: 104817932138-compute@developer.gserviceaccount.com\n"
     ]
    }
   ],
   "source": [
    "service_account_email = service_account_info.get('client_email')\n",
    "print(f\"Service account email: {service_account_email}\")"
   ]
  },
  {
   "cell_type": "code",
   "execution_count": 22,
   "metadata": {},
   "outputs": [
    {
     "name": "stdout",
     "output_type": "stream",
     "text": [
      "\n",
      "Folders accessible to service account:\n",
      "- another folder --watched (ID: 1x9MaIDdSIkxajrXuZMZ6bB8Lq8ANfjt1)\n",
      "- metadata-test (ID: 1_nTFaGVaw_SjLWheZKVqbUfylQpDVw5y)\n",
      "- LlamaIndex-Pipeline (ID: 1Hl61mJx-dL4hU07axOoul-_EJ8a_2yHx)\n",
      "- big-files (ID: 1uUfznqxs9JdWt4uI-JxiBq-b34Y5s48L)\n",
      "- IVN (ID: 16XE19dU-Oz20UMBwQneYZS85_vDXoCFE)\n",
      "- borges (ID: 103sYTQvMObH9br-AuX0876QTAIzbPtDc)\n",
      "\n",
      "Shared Drives accessible to service account:\n"
     ]
    }
   ],
   "source": [
    "\n",
    "\n",
    "# List all folders\n",
    "results = drive_service.files().list(\n",
    "    q=\"mimeType = 'application/vnd.google-apps.folder'\",\n",
    "    pageSize=100,\n",
    "    fields=\"files(name, id)\",\n",
    "    includeItemsFromAllDrives=True,\n",
    "    supportsAllDrives=True\n",
    ").execute()\n",
    "\n",
    "folders = results.get('files', [])\n",
    "print(\"\\nFolders accessible to service account:\")\n",
    "for folder in folders:\n",
    "    print(f\"- {folder['name']} (ID: {folder['id']})\")\n",
    "\n",
    "# Also list shared drives for completeness\n",
    "drives = drive_service.drives().list(pageSize=50).execute()\n",
    "print(\"\\nShared Drives accessible to service account:\")\n",
    "for drive in drives.get('drives', []):\n",
    "    print(f\"- {drive.get('name')} (ID: {drive.get('id')})\")"
   ]
  }
 ],
 "metadata": {
  "kernelspec": {
   "display_name": ".venv",
   "language": "python",
   "name": "python3"
  },
  "language_info": {
   "codemirror_mode": {
    "name": "ipython",
    "version": 3
   },
   "file_extension": ".py",
   "mimetype": "text/x-python",
   "name": "python",
   "nbconvert_exporter": "python",
   "pygments_lexer": "ipython3",
   "version": "3.13.2"
  }
 },
 "nbformat": 4,
 "nbformat_minor": 2
}
